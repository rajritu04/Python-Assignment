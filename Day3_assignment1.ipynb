{
  "nbformat": 4,
  "nbformat_minor": 0,
  "metadata": {
    "colab": {
      "name": "Day3_assignment1.ipynb",
      "provenance": [],
      "collapsed_sections": [],
      "authorship_tag": "ABX9TyN8ZO8LZaSBawrFo6VPFcNZ",
      "include_colab_link": true
    },
    "kernelspec": {
      "name": "python3",
      "display_name": "Python 3"
    }
  },
  "cells": [
    {
      "cell_type": "markdown",
      "metadata": {
        "id": "view-in-github",
        "colab_type": "text"
      },
      "source": [
        "<a href=\"https://colab.research.google.com/github/rajritu04/Python-Assignment/blob/master/Day3_assignment1.ipynb\" target=\"_parent\"><img src=\"https://colab.research.google.com/assets/colab-badge.svg\" alt=\"Open In Colab\"/></a>"
      ]
    },
    {
      "cell_type": "code",
      "metadata": {
        "id": "oXDWlhxkuqlp",
        "colab_type": "code",
        "colab": {
          "base_uri": "https://localhost:8080/",
          "height": 51
        },
        "outputId": "9b0e1826-5199-4e70-c2fc-b0da1f310333"
      },
      "source": [
        " alti=input(\"enter the value of altitudes - \")\n",
        "a=int(alti)\n",
        "if a<=1000:print(\"Safe to Land\")\n",
        "elif a<=5000:print(\"bring down to 1000\")\n",
        "else:print(\" Go around and try later\")"
      ],
      "execution_count": 4,
      "outputs": [
        {
          "output_type": "stream",
          "text": [
            "enter the value of altitudes - 5100\n",
            " Go around and try later\n"
          ],
          "name": "stdout"
        }
      ]
    }
  ]
}